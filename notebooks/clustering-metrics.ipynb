{
 "cells": [
  {
   "cell_type": "code",
   "execution_count": 28,
   "metadata": {},
   "outputs": [
    {
     "name": "stderr",
     "output_type": "stream",
     "text": [
      "/home/prz/PROJECTS/rvae_reproduction/rvae/utils/save_utils.py:28: FutureWarning: You are using `torch.load` with `weights_only=False` (the current default value), which uses the default pickle module implicitly. It is possible to construct malicious pickle data which will execute arbitrary code during unpickling (See https://github.com/pytorch/pytorch/blob/main/SECURITY.md#untrusted-models for more details). In a future release, the default value for `weights_only` will be flipped to `True`. This limits the functions that could be executed during unpickling. Arbitrary objects will no longer be allowed to be loaded via this mode unless they are explicitly allowlisted by the user via `torch.serialization.add_safe_globals`. We recommend you start setting `weights_only=True` for any use case where you don't have full control of the loaded file. Please open an issue on GitHub for any issues related to this experimental feature.\n",
      "  checkpoint = torch.load(load_path, map_location=\"cpu\")\n"
     ]
    }
   ],
   "source": [
    "import torch\n",
    "from copy import copy\n",
    "from tqdm import tqdm\n",
    "\n",
    "from experiments.experiment import Experiment\n",
    "from experiments.parser import get_parser\n",
    "from rvae.utils.save_utils import load_model\n",
    "from rvae.vizualization.visualization import (\n",
    "    plot_brownian_motion,\n",
    "    plot_variance,\n",
    ")\n",
    "from rvae.utils.paths import RESULTS_PATH\n",
    "\n",
    "# from rvae.vizualization.visualization_new import plot_latent_space\n",
    "\n",
    "parser = get_parser()\n",
    "args = parser.parse_args(\n",
    "    args=[\n",
    "        \"--model\",\n",
    "        \"RVAE\",\n",
    "        \"--dataset\",\n",
    "        \"fmnist\",\n",
    "        \"--enc_layers\",\n",
    "        \"300\",\n",
    "        \"300\",\n",
    "        \"--dec_layers\",\n",
    "        \"300\",\n",
    "        \"300\",\n",
    "        \"--latent_dim\",\n",
    "        \"2\",\n",
    "        \"--num_centers\",\n",
    "        \"350\",\n",
    "        \"--num_components\",\n",
    "        \"1\",\n",
    "        \"--device\",\n",
    "        \"cpu\",\n",
    "        \"--ckpt_path\",\n",
    "        # \"/home/prz/PROJECTS/rvae_reproduction/saved_models/RVAE/fmnist_warmup\",\n",
    "        \"/home/prz/PROJECTS/rvae_reproduction/saved_models/RVAE/fmnist_epoch100ckpt\",\n",
    "    ]\n",
    ")\n",
    "exp2 = Experiment(args)\n",
    "exp2.load_just_model(pretrained_path=args.ckpt_path)\n",
    "\n",
    "parser = get_parser()\n",
    "args = parser.parse_args(\n",
    "    args=[\n",
    "        \"--model\",\n",
    "        \"RVAE\",\n",
    "        \"--dataset\",\n",
    "        \"fmnist\",\n",
    "        \"--enc_layers\",\n",
    "        \"300\",\n",
    "        \"300\",\n",
    "        \"--dec_layers\",\n",
    "        \"300\",\n",
    "        \"300\",\n",
    "        \"--latent_dim\",\n",
    "        \"5\",\n",
    "        \"--num_centers\",\n",
    "        \"350\",\n",
    "        \"--num_components\",\n",
    "        \"1\",\n",
    "        \"--device\",\n",
    "        \"cpu\",\n",
    "        \"--ckpt_path\",\n",
    "        # \"/home/prz/PROJECTS/rvae_reproduction/saved_models/RVAE/fmnist_warmup\",\n",
    "        \"/home/prz/PROJECTS/rvae_reproduction/saved_models/d5/RVAE/fmnist_epoch100ckpt\",\n",
    "    ]\n",
    ")\n",
    "exp5 = Experiment(args)\n",
    "exp5.load_just_model(pretrained_path=args.ckpt_path)\n",
    "\n",
    "parser = get_parser()\n",
    "args = parser.parse_args(\n",
    "    args=[\n",
    "        \"--model\",\n",
    "        \"RVAE\",\n",
    "        \"--dataset\",\n",
    "        \"fmnist\",\n",
    "        \"--enc_layers\",\n",
    "        \"300\",\n",
    "        \"300\",\n",
    "        \"--dec_layers\",\n",
    "        \"300\",\n",
    "        \"300\",\n",
    "        \"--latent_dim\",\n",
    "        \"10\",\n",
    "        \"--num_centers\",\n",
    "        \"350\",\n",
    "        \"--num_components\",\n",
    "        \"1\",\n",
    "        \"--device\",\n",
    "        \"cpu\",\n",
    "        \"--ckpt_path\",\n",
    "        # \"/home/prz/PROJECTS/rvae_reproduction/saved_models/RVAE/fmnist_warmup\",\n",
    "        \"/home/prz/PROJECTS/rvae_reproduction/saved_models/d10/RVAE/fmnist_epoch100ckpt\",\n",
    "    ]\n",
    ")\n",
    "exp10 = Experiment(args)\n",
    "exp10.load_just_model(pretrained_path=args.ckpt_path)"
   ]
  },
  {
   "cell_type": "markdown",
   "metadata": {},
   "source": [
    "---"
   ]
  },
  {
   "cell_type": "markdown",
   "metadata": {},
   "source": [
    "### Train clustering embedding metrics"
   ]
  },
  {
   "cell_type": "code",
   "execution_count": null,
   "metadata": {},
   "outputs": [],
   "source": [
    "def embed_data(model, data_loader):\n",
    "    model.eval()\n",
    "    all_z = []\n",
    "    all_q_mu = []\n",
    "    all_q_t = []\n",
    "    all_labels = []\n",
    "    with torch.no_grad():\n",
    "        for data, labels in tqdm(data_loader):\n",
    "            z, q_mu, q_t = model.encode(data.view(-1, data.shape[-1] * data.shape[-2]))\n",
    "            all_z.append(z)\n",
    "            all_q_mu.append(q_mu)\n",
    "            all_q_t.append(q_t)\n",
    "            all_labels.append(labels)\n",
    "\n",
    "    all_z = torch.cat(all_z)\n",
    "    all_q_mu = torch.cat(all_q_mu)\n",
    "    all_q_t = torch.cat(all_q_t)\n",
    "    all_labels = torch.cat(all_labels)\n",
    "    return all_z, all_q_mu, all_q_t, all_labels"
   ]
  },
  {
   "cell_type": "code",
   "execution_count": 27,
   "metadata": {},
   "outputs": [],
   "source": [
    "d2_all_z, d2_all_q_mu, d2_all_q_t, d2_all_labels = embed_data(\n",
    "    exp2.model, exp2.train_loader\n",
    ")"
   ]
  },
  {
   "cell_type": "code",
   "execution_count": null,
   "metadata": {},
   "outputs": [],
   "source": []
  },
  {
   "cell_type": "markdown",
   "metadata": {},
   "source": [
    "### Val clustering embedding metrics"
   ]
  },
  {
   "cell_type": "code",
   "execution_count": null,
   "metadata": {},
   "outputs": [],
   "source": []
  }
 ],
 "metadata": {
  "kernelspec": {
   "display_name": "ML",
   "language": "python",
   "name": "python3"
  },
  "language_info": {
   "codemirror_mode": {
    "name": "ipython",
    "version": 3
   },
   "file_extension": ".py",
   "mimetype": "text/x-python",
   "name": "python",
   "nbconvert_exporter": "python",
   "pygments_lexer": "ipython3",
   "version": "3.12.9"
  }
 },
 "nbformat": 4,
 "nbformat_minor": 2
}
