{
 "cells": [
  {
   "cell_type": "markdown",
   "metadata": {},
   "source": [
    "TODO\n",
    "- embed and save all datasets with models of all sizes for the same seed\n",
    "- prepare colab compatible notebook loading and training models on the embedded datasets and evaluating on the "
   ]
  },
  {
   "cell_type": "markdown",
   "metadata": {},
   "source": [
    "---"
   ]
  },
  {
   "cell_type": "code",
   "execution_count": 9,
   "metadata": {},
   "outputs": [],
   "source": [
    "import torch\n",
    "\n",
    "from tqdm import tqdm\n",
    "\n",
    "from experiments.experiment import Experiment\n",
    "from experiments.parser import get_parser\n",
    "from rvae.vizualization.visualization_new import extract_latent_mu\n",
    "from rvae.utils.paths import SAVED_MODELS_PATH"
   ]
  },
  {
   "cell_type": "code",
   "execution_count": null,
   "metadata": {},
   "outputs": [
    {
     "name": "stdout",
     "output_type": "stream",
     "text": [
      "DEBUG: self.rvae_save_dir='../saved_models/RVAE/' | os.path.exists(self.rvae_save_dir)=True\n",
      "DEBUG: self.rvae_save_dir='../saved_models/RVAE/' | os.path.exists(self.rvae_save_dir)=True\n",
      "DEBUG: self.rvae_save_dir='../saved_models/RVAE/' | os.path.exists(self.rvae_save_dir)=True\n",
      "DEBUG: self.rvae_save_dir='../saved_models/RVAE/' | os.path.exists(self.rvae_save_dir)=True\n",
      "DEBUG: self.rvae_save_dir='../saved_models/RVAE/' | os.path.exists(self.rvae_save_dir)=True\n",
      "DEBUG: self.rvae_save_dir='../saved_models/RVAE/' | os.path.exists(self.rvae_save_dir)=True\n"
     ]
    }
   ],
   "source": [
    "model_types = ['VAE', 'RVAE']\n",
    "latent_dims = [2, 5, 10]\n",
    "\n",
    "embeddings = {}\n",
    "\n",
    "parser = get_parser()\n",
    "\n",
    "for model_type in model_types:\n",
    "    for latent_dim in latent_dims:\n",
    "        args = parser.parse_args(\n",
    "            args=[\n",
    "                \"--model\",\n",
    "                model_type,\n",
    "                \"--dataset\",\n",
    "                \"fmnist\",\n",
    "                \"--enc_layers\",\n",
    "                \"300\",\n",
    "                \"300\",\n",
    "                \"--dec_layers\",\n",
    "                \"300\",\n",
    "                \"300\",\n",
    "                \"--latent_dim\",\n",
    "                f\"{latent_dim}\",\n",
    "                \"--num_centers\",\n",
    "                \"350\",\n",
    "                \"--num_components\",\n",
    "                \"1\",\n",
    "                \"--device\",\n",
    "                \"cpu\",\n",
    "                \"--ckpt_path\",\n",
    "                f\"{SAVED_MODELS_PATH}/d{latent_dim}/42/{model_type}/{\"fmnist_K1epoch100.ckpt\" if model_type == \"VAE\" else \"fmnist_epoch100ckpt\"}\",\n",
    "            ]\n",
    "        )\n",
    "        exp = Experiment(args)\n",
    "        exp.load_just_model(pretrained_path=args.ckpt_path)\n",
    "        exp.model._mean_warmup = False\n",
    "        embeddings[model_type] = embeddings.get(model_type, {})\n",
    "        embeddings[model_type][latent_dim] = embeddings[model_type].get(latent_dim, {})\n",
    "        embeddings[model_type][latent_dim]['train'] = {key: value for key, value in zip([\"mus\", \"labels\", \"idxs\"], extract_latent_mu(\n",
    "            model=exp.model, data_loader=exp.train_loader, model_type=model_type))}\n",
    "        embeddings[model_type][latent_dim]['test'] = {key: value for key, value in zip([\"mus\", \"labels\", \"idxs\"], extract_latent_mu(\n",
    "            model=exp.model, data_loader=exp.test_loader, model_type=model_type))}\n",
    "        \n",
    "        "
   ]
  },
  {
   "cell_type": "code",
   "execution_count": 7,
   "metadata": {},
   "outputs": [
    {
     "ename": "KeyError",
     "evalue": "'RVAE'",
     "output_type": "error",
     "traceback": [
      "\u001b[31m---------------------------------------------------------------------------\u001b[39m",
      "\u001b[31mKeyError\u001b[39m                                  Traceback (most recent call last)",
      "\u001b[36mCell\u001b[39m\u001b[36m \u001b[39m\u001b[32mIn[7]\u001b[39m\u001b[32m, line 1\u001b[39m\n\u001b[32m----> \u001b[39m\u001b[32m1\u001b[39m embeddings.keys(), \u001b[43membeddings\u001b[49m\u001b[43m[\u001b[49m\u001b[33;43m\"\u001b[39;49m\u001b[33;43mRVAE\u001b[39;49m\u001b[33;43m\"\u001b[39;49m\u001b[43m]\u001b[49m.keys()\n",
      "\u001b[31mKeyError\u001b[39m: 'RVAE'"
     ]
    }
   ],
   "source": [
    "embeddings.keys(), embeddings[\"RVAE\"].keys()"
   ]
  },
  {
   "cell_type": "code",
   "execution_count": null,
   "metadata": {},
   "outputs": [
    {
     "data": {
      "text/plain": [
       "torch.Size([60000, 5])"
      ]
     },
     "execution_count": 4,
     "metadata": {},
     "output_type": "execute_result"
    }
   ],
   "source": [
    "embeddings[\"RVAE\"][5][\"train\"][\"mus\"].shape"
   ]
  },
  {
   "cell_type": "code",
   "execution_count": null,
   "metadata": {},
   "outputs": [
    {
     "data": {
      "text/plain": [
       "torch.Size([60000])"
      ]
     },
     "execution_count": 5,
     "metadata": {},
     "output_type": "execute_result"
    }
   ],
   "source": [
    "embeddings[\"RVAE\"][5][\"train\"][\"labels\"].shape"
   ]
  },
  {
   "cell_type": "markdown",
   "metadata": {},
   "source": [
    "---"
   ]
  },
  {
   "cell_type": "code",
   "execution_count": null,
   "metadata": {},
   "outputs": [],
   "source": [
    "from rvae.utils.paths import RESULTS_PATH\n",
    "\n",
    "torch.save(embeddings, RESULTS_PATH / \"embeddings\" / \"fmnist_embeddings.pt\")"
   ]
  },
  {
   "cell_type": "code",
   "execution_count": null,
   "metadata": {},
   "outputs": [
    {
     "data": {
      "text/plain": [
       "PosixPath('/home/prz/PROJECTS/rvae_reproduction/results/embeddings/fmnist_embeddings.pt')"
      ]
     },
     "execution_count": 8,
     "metadata": {},
     "output_type": "execute_result"
    }
   ],
   "source": [
    "RESULTS_PATH / \"embeddings\" / \"fmnist_embeddings.pt\""
   ]
  },
  {
   "cell_type": "code",
   "execution_count": null,
   "metadata": {},
   "outputs": [
    {
     "name": "stderr",
     "output_type": "stream",
     "text": [
      "/tmp/ipykernel_72343/2297167075.py:1: FutureWarning: You are using `torch.load` with `weights_only=False` (the current default value), which uses the default pickle module implicitly. It is possible to construct malicious pickle data which will execute arbitrary code during unpickling (See https://github.com/pytorch/pytorch/blob/main/SECURITY.md#untrusted-models for more details). In a future release, the default value for `weights_only` will be flipped to `True`. This limits the functions that could be executed during unpickling. Arbitrary objects will no longer be allowed to be loaded via this mode unless they are explicitly allowlisted by the user via `torch.serialization.add_safe_globals`. We recommend you start setting `weights_only=True` for any use case where you don't have full control of the loaded file. Please open an issue on GitHub for any issues related to this experimental feature.\n",
      "  embeddings = torch.load(RESULTS_PATH / \"embeddings\" / \"fmnist_embeddings.pt\")\n"
     ]
    }
   ],
   "source": [
    "embeddings = torch.load(RESULTS_PATH / \"embeddings\" / \"fmnist_embeddings.pt\")"
   ]
  },
  {
   "cell_type": "code",
   "execution_count": null,
   "metadata": {},
   "outputs": [],
   "source": []
  }
 ],
 "metadata": {
  "kernelspec": {
   "display_name": "ML",
   "language": "python",
   "name": "python3"
  },
  "language_info": {
   "codemirror_mode": {
    "name": "ipython",
    "version": 3
   },
   "file_extension": ".py",
   "mimetype": "text/x-python",
   "name": "python",
   "nbconvert_exporter": "python",
   "pygments_lexer": "ipython3",
   "version": "3.12.9"
  }
 },
 "nbformat": 4,
 "nbformat_minor": 2
}
