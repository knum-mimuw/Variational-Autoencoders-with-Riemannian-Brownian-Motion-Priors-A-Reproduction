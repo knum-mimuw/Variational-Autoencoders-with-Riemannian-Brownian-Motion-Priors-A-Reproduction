{
 "cells": [
  {
   "cell_type": "markdown",
   "metadata": {},
   "source": [
    "#### Place to create loss table in"
   ]
  },
  {
   "cell_type": "code",
   "execution_count": 1,
   "metadata": {},
   "outputs": [],
   "source": [
    "import torch\n",
    "\n",
    "from tqdm import tqdm\n",
    "\n",
    "from experiments.experiment import Experiment\n",
    "from experiments.parser import get_parser\n",
    "from rvae.variational_inference.train import test_vae, test_rvae\n",
    "from rvae.utils.paths import SAVED_MODELS_PATH"
   ]
  },
  {
   "cell_type": "code",
   "execution_count": null,
   "metadata": {},
   "outputs": [
    {
     "name": "stdout",
     "output_type": "stream",
     "text": [
      "DEBUG: self.rvae_save_dir='../saved_models/RVAE/' | os.path.exists(self.rvae_save_dir)=True\n",
      "DEBUG: self.rvae_save_dir='../saved_models/RVAE/' | os.path.exists(self.rvae_save_dir)=True\n",
      "DEBUG: self.rvae_save_dir='../saved_models/RVAE/' | os.path.exists(self.rvae_save_dir)=True\n",
      "DEBUG: self.rvae_save_dir='../saved_models/RVAE/' | os.path.exists(self.rvae_save_dir)=True\n",
      "DEBUG: self.rvae_save_dir='../saved_models/RVAE/' | os.path.exists(self.rvae_save_dir)=True\n",
      "DEBUG: self.rvae_save_dir='../saved_models/RVAE/' | os.path.exists(self.rvae_save_dir)=True\n",
      "DEBUG: self.rvae_save_dir='../saved_models/RVAE/' | os.path.exists(self.rvae_save_dir)=True\n",
      "DEBUG: self.rvae_save_dir='../saved_models/RVAE/' | os.path.exists(self.rvae_save_dir)=True\n",
      "DEBUG: self.rvae_save_dir='../saved_models/RVAE/' | os.path.exists(self.rvae_save_dir)=True\n",
      "DEBUG: self.rvae_save_dir='../saved_models/RVAE/' | os.path.exists(self.rvae_save_dir)=True\n",
      "DEBUG: self.rvae_save_dir='../saved_models/RVAE/' | os.path.exists(self.rvae_save_dir)=True\n",
      "DEBUG: self.rvae_save_dir='../saved_models/RVAE/' | os.path.exists(self.rvae_save_dir)=True\n",
      "DEBUG: self.rvae_save_dir='../saved_models/RVAE/' | os.path.exists(self.rvae_save_dir)=True\n",
      "DEBUG: self.rvae_save_dir='../saved_models/RVAE/' | os.path.exists(self.rvae_save_dir)=True\n",
      "DEBUG: self.rvae_save_dir='../saved_models/RVAE/' | os.path.exists(self.rvae_save_dir)=True\n",
      "DEBUG: self.rvae_save_dir='../saved_models/RVAE/' | os.path.exists(self.rvae_save_dir)=True\n",
      "DEBUG: self.rvae_save_dir='../saved_models/RVAE/' | os.path.exists(self.rvae_save_dir)=True\n",
      "DEBUG: self.rvae_save_dir='../saved_models/RVAE/' | os.path.exists(self.rvae_save_dir)=True\n"
     ]
    }
   ],
   "source": [
    "BATCH_SIZE = 128\n",
    "\n",
    "model_types = ['VAE', 'RVAE']\n",
    "latent_dims = [2, 5, 10]\n",
    "seeds = [0, 42, 100]\n",
    "\n",
    "device = torch.device('cuda') if torch.cuda.is_available() else torch.device('cpu')\n",
    "losses = {}\n",
    "\n",
    "parser = get_parser()\n",
    "\n",
    "for model_type in model_types:\n",
    "    for latent_dim in latent_dims:\n",
    "        for seed in seeds:\n",
    "            args = parser.parse_args(\n",
    "                args=[\n",
    "                    \"--model\",\n",
    "                    model_type,\n",
    "                    \"--dataset\",\n",
    "                    \"fmnist\",\n",
    "                    \"--enc_layers\",\n",
    "                    \"300\",\n",
    "                    \"300\",\n",
    "                    \"--dec_layers\",\n",
    "                    \"300\",\n",
    "                    \"300\",\n",
    "                    \"--latent_dim\",\n",
    "                    f\"{latent_dim}\",\n",
    "                    \"--num_centers\",\n",
    "                    \"350\",\n",
    "                    \"--num_components\",\n",
    "                    \"1\",\n",
    "                    \"--device\",\n",
    "                    \"cpu\",\n",
    "                    \"--ckpt_path\",\n",
    "                    f\"{SAVED_MODELS_PATH}/d{latent_dim}/{seed}/{model_type}/{\"fmnist_K1epoch100.ckpt\" if model_type == \"VAE\" else \"fmnist_epoch100ckpt\"}\",\n",
    "                ]\n",
    "            )\n",
    "            exp = Experiment(args)\n",
    "            exp.load_just_model(pretrained_path=args.ckpt_path)\n",
    "            exp.model._mean_warmup = False\n",
    "            losses[model_type] = losses.get(model_type, {})\n",
    "            losses[model_type][latent_dim] = losses[model_type].get(latent_dim, {})\n",
    "            if model_type == \"VAE\":\n",
    "                losses[model_type][latent_dim][seed] = {key: value for key, value in zip([\"test_loss\", \"test_rec\", \"test_kld\"], test_vae(\n",
    "                    test_loader=exp.test_loader, b_sz=BATCH_SIZE, model=exp.model, device=device))}\n",
    "            else:\n",
    "                losses[model_type][latent_dim][seed] = {key: value for key, value in zip([\"test_loss\", \"test_rec\", \"test_kld\"],\n",
    "                                                                                       test_rvae(test_loader=exp.test_loader, batch_size=BATCH_SIZE, model=exp.model, device=device))}\n",
    "            "
   ]
  },
  {
   "cell_type": "markdown",
   "metadata": {},
   "source": [
    "---"
   ]
  },
  {
   "cell_type": "code",
   "execution_count": 22,
   "metadata": {},
   "outputs": [
    {
     "data": {
      "text/plain": [
       "{'VAE': {2: {'test': {'test_loss': tensor(-296.4922),\n",
       "    'test_rec': tensor(-299.3292),\n",
       "    'test_kld': tensor(2.8371)}},\n",
       "  5: {'test': {'test_loss': tensor(-333.7895),\n",
       "    'test_rec': tensor(-337.3924),\n",
       "    'test_kld': tensor(3.6030)}},\n",
       "  10: {'test': {'test_loss': tensor(-332.2371),\n",
       "    'test_rec': tensor(-335.8943),\n",
       "    'test_kld': tensor(3.6573)}}},\n",
       " 'RVAE': {2: {'test': (tensor(-471.1065), tensor(-478.0346), tensor(6.9247))},\n",
       "  5: {'test': (tensor(-558.5475), tensor(-572.1154), tensor(13.5679))},\n",
       "  10: {'test': (tensor(-624.0549), tensor(-646.8359), tensor(22.7810))}}}"
      ]
     },
     "execution_count": 22,
     "metadata": {},
     "output_type": "execute_result"
    }
   ],
   "source": [
    "losses"
   ]
  },
  {
   "cell_type": "code",
   "execution_count": 21,
   "metadata": {},
   "outputs": [],
   "source": [
    "torch.save(losses, \"losses.pt\")"
   ]
  },
  {
   "cell_type": "markdown",
   "metadata": {},
   "source": [
    "---"
   ]
  },
  {
   "cell_type": "code",
   "execution_count": 66,
   "metadata": {},
   "outputs": [],
   "source": [
    "vae_flat_losses = {}\n",
    "for key_a, val_a in losses[\"VAE\"].items():\n",
    "    vae_flat_losses[(\"VAE\", key_a)] = torch.stack([v for v in val_a[\"test\"].values()])"
   ]
  },
  {
   "cell_type": "code",
   "execution_count": 72,
   "metadata": {},
   "outputs": [],
   "source": [
    "rvae_flat_losses = {}\n",
    "for key_a, val_a in losses[\"RVAE\"].items():\n",
    "    rvae_flat_losses[(\"RVAE\", key_a)] = torch.stack(val_a[\"test\"])"
   ]
  },
  {
   "cell_type": "code",
   "execution_count": 73,
   "metadata": {},
   "outputs": [
    {
     "data": {
      "text/plain": [
       "({('RVAE', 2): tensor([-471.1065, -478.0346,    6.9247]),\n",
       "  ('RVAE', 5): tensor([-558.5475, -572.1154,   13.5679]),\n",
       "  ('RVAE', 10): tensor([-624.0549, -646.8359,   22.7810])},\n",
       " {('VAE', 2): tensor([-296.4922, -299.3292,    2.8371]),\n",
       "  ('VAE', 5): tensor([-333.7895, -337.3924,    3.6030]),\n",
       "  ('VAE', 10): tensor([-332.2371, -335.8943,    3.6573])})"
      ]
     },
     "execution_count": 73,
     "metadata": {},
     "output_type": "execute_result"
    }
   ],
   "source": [
    "rvae_flat_losses, vae_flat_losses"
   ]
  },
  {
   "cell_type": "code",
   "execution_count": 74,
   "metadata": {},
   "outputs": [],
   "source": [
    "import pandas as pd\n",
    "\n",
    "df = pd.concat(\n",
    "    [pd.DataFrame(data=vae_flat_losses), pd.DataFrame(data=rvae_flat_losses)], axis=1\n",
    ")"
   ]
  },
  {
   "cell_type": "code",
   "execution_count": 77,
   "metadata": {},
   "outputs": [],
   "source": [
    "new_df = df.T\n",
    "new_df.columns = [\"test_loss\", \"test_rec\", \"test_kld\"]"
   ]
  },
  {
   "cell_type": "code",
   "execution_count": 78,
   "metadata": {},
   "outputs": [
    {
     "data": {
      "text/html": [
       "<div>\n",
       "<style scoped>\n",
       "    .dataframe tbody tr th:only-of-type {\n",
       "        vertical-align: middle;\n",
       "    }\n",
       "\n",
       "    .dataframe tbody tr th {\n",
       "        vertical-align: top;\n",
       "    }\n",
       "\n",
       "    .dataframe thead th {\n",
       "        text-align: right;\n",
       "    }\n",
       "</style>\n",
       "<table border=\"1\" class=\"dataframe\">\n",
       "  <thead>\n",
       "    <tr style=\"text-align: right;\">\n",
       "      <th></th>\n",
       "      <th></th>\n",
       "      <th>test_loss</th>\n",
       "      <th>test_rec</th>\n",
       "      <th>test_kld</th>\n",
       "    </tr>\n",
       "  </thead>\n",
       "  <tbody>\n",
       "    <tr>\n",
       "      <th rowspan=\"3\" valign=\"top\">VAE</th>\n",
       "      <th>2</th>\n",
       "      <td>-296.492218</td>\n",
       "      <td>-299.329163</td>\n",
       "      <td>2.837100</td>\n",
       "    </tr>\n",
       "    <tr>\n",
       "      <th>5</th>\n",
       "      <td>-333.789490</td>\n",
       "      <td>-337.392395</td>\n",
       "      <td>3.602960</td>\n",
       "    </tr>\n",
       "    <tr>\n",
       "      <th>10</th>\n",
       "      <td>-332.237061</td>\n",
       "      <td>-335.894318</td>\n",
       "      <td>3.657283</td>\n",
       "    </tr>\n",
       "    <tr>\n",
       "      <th rowspan=\"3\" valign=\"top\">RVAE</th>\n",
       "      <th>2</th>\n",
       "      <td>-471.106476</td>\n",
       "      <td>-478.034607</td>\n",
       "      <td>6.924698</td>\n",
       "    </tr>\n",
       "    <tr>\n",
       "      <th>5</th>\n",
       "      <td>-558.547546</td>\n",
       "      <td>-572.115417</td>\n",
       "      <td>13.567932</td>\n",
       "    </tr>\n",
       "    <tr>\n",
       "      <th>10</th>\n",
       "      <td>-624.054932</td>\n",
       "      <td>-646.835876</td>\n",
       "      <td>22.781002</td>\n",
       "    </tr>\n",
       "  </tbody>\n",
       "</table>\n",
       "</div>"
      ],
      "text/plain": [
       "          test_loss    test_rec   test_kld\n",
       "VAE  2  -296.492218 -299.329163   2.837100\n",
       "     5  -333.789490 -337.392395   3.602960\n",
       "     10 -332.237061 -335.894318   3.657283\n",
       "RVAE 2  -471.106476 -478.034607   6.924698\n",
       "     5  -558.547546 -572.115417  13.567932\n",
       "     10 -624.054932 -646.835876  22.781002"
      ]
     },
     "execution_count": 78,
     "metadata": {},
     "output_type": "execute_result"
    }
   ],
   "source": [
    "new_df"
   ]
  },
  {
   "cell_type": "code",
   "execution_count": 57,
   "metadata": {},
   "outputs": [
    {
     "data": {
      "text/html": [
       "<div>\n",
       "<style scoped>\n",
       "    .dataframe tbody tr th:only-of-type {\n",
       "        vertical-align: middle;\n",
       "    }\n",
       "\n",
       "    .dataframe tbody tr th {\n",
       "        vertical-align: top;\n",
       "    }\n",
       "\n",
       "    .dataframe thead th {\n",
       "        text-align: right;\n",
       "    }\n",
       "</style>\n",
       "<table border=\"1\" class=\"dataframe\">\n",
       "  <thead>\n",
       "    <tr style=\"text-align: right;\">\n",
       "      <th></th>\n",
       "      <th>level_0</th>\n",
       "      <th>level_1</th>\n",
       "      <th>level_2</th>\n",
       "      <th>0</th>\n",
       "    </tr>\n",
       "  </thead>\n",
       "  <tbody>\n",
       "    <tr>\n",
       "      <th>0</th>\n",
       "      <td>VAE</td>\n",
       "      <td>2</td>\n",
       "      <td>test_loss</td>\n",
       "      <td>-296.492218</td>\n",
       "    </tr>\n",
       "    <tr>\n",
       "      <th>1</th>\n",
       "      <td>VAE</td>\n",
       "      <td>2</td>\n",
       "      <td>test_rec</td>\n",
       "      <td>-299.329163</td>\n",
       "    </tr>\n",
       "    <tr>\n",
       "      <th>2</th>\n",
       "      <td>VAE</td>\n",
       "      <td>2</td>\n",
       "      <td>test_kld</td>\n",
       "      <td>2.837100</td>\n",
       "    </tr>\n",
       "    <tr>\n",
       "      <th>3</th>\n",
       "      <td>VAE</td>\n",
       "      <td>5</td>\n",
       "      <td>test_loss</td>\n",
       "      <td>-333.789490</td>\n",
       "    </tr>\n",
       "    <tr>\n",
       "      <th>4</th>\n",
       "      <td>VAE</td>\n",
       "      <td>5</td>\n",
       "      <td>test_rec</td>\n",
       "      <td>-337.392395</td>\n",
       "    </tr>\n",
       "    <tr>\n",
       "      <th>5</th>\n",
       "      <td>VAE</td>\n",
       "      <td>5</td>\n",
       "      <td>test_kld</td>\n",
       "      <td>3.602960</td>\n",
       "    </tr>\n",
       "    <tr>\n",
       "      <th>6</th>\n",
       "      <td>VAE</td>\n",
       "      <td>10</td>\n",
       "      <td>test_loss</td>\n",
       "      <td>-332.237061</td>\n",
       "    </tr>\n",
       "    <tr>\n",
       "      <th>7</th>\n",
       "      <td>VAE</td>\n",
       "      <td>10</td>\n",
       "      <td>test_rec</td>\n",
       "      <td>-335.894318</td>\n",
       "    </tr>\n",
       "    <tr>\n",
       "      <th>8</th>\n",
       "      <td>VAE</td>\n",
       "      <td>10</td>\n",
       "      <td>test_kld</td>\n",
       "      <td>3.657283</td>\n",
       "    </tr>\n",
       "    <tr>\n",
       "      <th>9</th>\n",
       "      <td>RVAE</td>\n",
       "      <td>2</td>\n",
       "      <td>test_loss</td>\n",
       "      <td>-471.106476</td>\n",
       "    </tr>\n",
       "    <tr>\n",
       "      <th>10</th>\n",
       "      <td>RVAE</td>\n",
       "      <td>2</td>\n",
       "      <td>test_rec</td>\n",
       "      <td>-478.034607</td>\n",
       "    </tr>\n",
       "    <tr>\n",
       "      <th>11</th>\n",
       "      <td>RVAE</td>\n",
       "      <td>2</td>\n",
       "      <td>test_kld</td>\n",
       "      <td>6.924698</td>\n",
       "    </tr>\n",
       "    <tr>\n",
       "      <th>12</th>\n",
       "      <td>RVAE</td>\n",
       "      <td>5</td>\n",
       "      <td>test_loss</td>\n",
       "      <td>-558.547546</td>\n",
       "    </tr>\n",
       "    <tr>\n",
       "      <th>13</th>\n",
       "      <td>RVAE</td>\n",
       "      <td>5</td>\n",
       "      <td>test_rec</td>\n",
       "      <td>-572.115417</td>\n",
       "    </tr>\n",
       "    <tr>\n",
       "      <th>14</th>\n",
       "      <td>RVAE</td>\n",
       "      <td>5</td>\n",
       "      <td>test_kld</td>\n",
       "      <td>13.567932</td>\n",
       "    </tr>\n",
       "    <tr>\n",
       "      <th>15</th>\n",
       "      <td>RVAE</td>\n",
       "      <td>10</td>\n",
       "      <td>test_loss</td>\n",
       "      <td>-624.054932</td>\n",
       "    </tr>\n",
       "    <tr>\n",
       "      <th>16</th>\n",
       "      <td>RVAE</td>\n",
       "      <td>10</td>\n",
       "      <td>test_rec</td>\n",
       "      <td>-646.835876</td>\n",
       "    </tr>\n",
       "    <tr>\n",
       "      <th>17</th>\n",
       "      <td>RVAE</td>\n",
       "      <td>10</td>\n",
       "      <td>test_kld</td>\n",
       "      <td>22.781002</td>\n",
       "    </tr>\n",
       "  </tbody>\n",
       "</table>\n",
       "</div>"
      ],
      "text/plain": [
       "   level_0  level_1    level_2           0\n",
       "0      VAE        2  test_loss -296.492218\n",
       "1      VAE        2   test_rec -299.329163\n",
       "2      VAE        2   test_kld    2.837100\n",
       "3      VAE        5  test_loss -333.789490\n",
       "4      VAE        5   test_rec -337.392395\n",
       "5      VAE        5   test_kld    3.602960\n",
       "6      VAE       10  test_loss -332.237061\n",
       "7      VAE       10   test_rec -335.894318\n",
       "8      VAE       10   test_kld    3.657283\n",
       "9     RVAE        2  test_loss -471.106476\n",
       "10    RVAE        2   test_rec -478.034607\n",
       "11    RVAE        2   test_kld    6.924698\n",
       "12    RVAE        5  test_loss -558.547546\n",
       "13    RVAE        5   test_rec -572.115417\n",
       "14    RVAE        5   test_kld   13.567932\n",
       "15    RVAE       10  test_loss -624.054932\n",
       "16    RVAE       10   test_rec -646.835876\n",
       "17    RVAE       10   test_kld   22.781002"
      ]
     },
     "execution_count": 57,
     "metadata": {},
     "output_type": "execute_result"
    }
   ],
   "source": [
    "new_df = df.T.reset_index()\n",
    "new_df"
   ]
  },
  {
   "cell_type": "code",
   "execution_count": 47,
   "metadata": {},
   "outputs": [
    {
     "data": {
      "text/html": [
       "<div>\n",
       "<style scoped>\n",
       "    .dataframe tbody tr th:only-of-type {\n",
       "        vertical-align: middle;\n",
       "    }\n",
       "\n",
       "    .dataframe tbody tr th {\n",
       "        vertical-align: top;\n",
       "    }\n",
       "\n",
       "    .dataframe thead th {\n",
       "        text-align: right;\n",
       "    }\n",
       "</style>\n",
       "<table border=\"1\" class=\"dataframe\">\n",
       "  <thead>\n",
       "    <tr style=\"text-align: right;\">\n",
       "      <th></th>\n",
       "      <th></th>\n",
       "      <th></th>\n",
       "      <th>0</th>\n",
       "    </tr>\n",
       "  </thead>\n",
       "  <tbody>\n",
       "    <tr>\n",
       "      <th rowspan=\"9\" valign=\"top\">VAE</th>\n",
       "      <th rowspan=\"3\" valign=\"top\">2</th>\n",
       "      <th>test_loss</th>\n",
       "      <td>-296.492218</td>\n",
       "    </tr>\n",
       "    <tr>\n",
       "      <th>test_rec</th>\n",
       "      <td>-299.329163</td>\n",
       "    </tr>\n",
       "    <tr>\n",
       "      <th>test_kld</th>\n",
       "      <td>2.837100</td>\n",
       "    </tr>\n",
       "    <tr>\n",
       "      <th rowspan=\"3\" valign=\"top\">5</th>\n",
       "      <th>test_loss</th>\n",
       "      <td>-333.789490</td>\n",
       "    </tr>\n",
       "    <tr>\n",
       "      <th>test_rec</th>\n",
       "      <td>-337.392395</td>\n",
       "    </tr>\n",
       "    <tr>\n",
       "      <th>test_kld</th>\n",
       "      <td>3.602960</td>\n",
       "    </tr>\n",
       "    <tr>\n",
       "      <th rowspan=\"3\" valign=\"top\">10</th>\n",
       "      <th>test_loss</th>\n",
       "      <td>-332.237061</td>\n",
       "    </tr>\n",
       "    <tr>\n",
       "      <th>test_rec</th>\n",
       "      <td>-335.894318</td>\n",
       "    </tr>\n",
       "    <tr>\n",
       "      <th>test_kld</th>\n",
       "      <td>3.657283</td>\n",
       "    </tr>\n",
       "  </tbody>\n",
       "</table>\n",
       "</div>"
      ],
      "text/plain": [
       "                           0\n",
       "VAE 2  test_loss -296.492218\n",
       "       test_rec  -299.329163\n",
       "       test_kld     2.837100\n",
       "    5  test_loss -333.789490\n",
       "       test_rec  -337.392395\n",
       "       test_kld     3.602960\n",
       "    10 test_loss -332.237061\n",
       "       test_rec  -335.894318\n",
       "       test_kld     3.657283"
      ]
     },
     "execution_count": 47,
     "metadata": {},
     "output_type": "execute_result"
    }
   ],
   "source": [
    "df.T"
   ]
  },
  {
   "cell_type": "code",
   "execution_count": 33,
   "metadata": {},
   "outputs": [],
   "source": [
    "# losses_df = {\n",
    "#     (outer, inner, inner2): arr1\n",
    "#     for outer, inner_dict in losses.items()\n",
    "#     for inner, arr in inner_dict.items()\n",
    "#     for inner2, arr1 in arr[\"test\"].items()\n",
    "# }"
   ]
  },
  {
   "cell_type": "code",
   "execution_count": 9,
   "metadata": {},
   "outputs": [
    {
     "ename": "ValueError",
     "evalue": "Mixing dicts with non-Series may lead to ambiguous ordering.",
     "output_type": "error",
     "traceback": [
      "\u001b[31m---------------------------------------------------------------------------\u001b[39m",
      "\u001b[31mValueError\u001b[39m                                Traceback (most recent call last)",
      "\u001b[36mCell\u001b[39m\u001b[36m \u001b[39m\u001b[32mIn[9]\u001b[39m\u001b[32m, line 3\u001b[39m\n\u001b[32m      1\u001b[39m \u001b[38;5;28;01mimport\u001b[39;00m\u001b[38;5;250m \u001b[39m\u001b[34;01mpandas\u001b[39;00m\u001b[38;5;250m \u001b[39m\u001b[38;5;28;01mas\u001b[39;00m\u001b[38;5;250m \u001b[39m\u001b[34;01mpd\u001b[39;00m\n\u001b[32m----> \u001b[39m\u001b[32m3\u001b[39m df = \u001b[43mpd\u001b[49m\u001b[43m.\u001b[49m\u001b[43mDataFrame\u001b[49m\u001b[43m(\u001b[49m\u001b[43mdata\u001b[49m\u001b[43m=\u001b[49m\u001b[43mflat_f1\u001b[49m\u001b[43m)\u001b[49m\n",
      "\u001b[36mFile \u001b[39m\u001b[32m~/.local/lib/python3.12/site-packages/pandas/core/frame.py:778\u001b[39m, in \u001b[36mDataFrame.__init__\u001b[39m\u001b[34m(self, data, index, columns, dtype, copy)\u001b[39m\n\u001b[32m    772\u001b[39m     mgr = \u001b[38;5;28mself\u001b[39m._init_mgr(\n\u001b[32m    773\u001b[39m         data, axes={\u001b[33m\"\u001b[39m\u001b[33mindex\u001b[39m\u001b[33m\"\u001b[39m: index, \u001b[33m\"\u001b[39m\u001b[33mcolumns\u001b[39m\u001b[33m\"\u001b[39m: columns}, dtype=dtype, copy=copy\n\u001b[32m    774\u001b[39m     )\n\u001b[32m    776\u001b[39m \u001b[38;5;28;01melif\u001b[39;00m \u001b[38;5;28misinstance\u001b[39m(data, \u001b[38;5;28mdict\u001b[39m):\n\u001b[32m    777\u001b[39m     \u001b[38;5;66;03m# GH#38939 de facto copy defaults to False only in non-dict cases\u001b[39;00m\n\u001b[32m--> \u001b[39m\u001b[32m778\u001b[39m     mgr = \u001b[43mdict_to_mgr\u001b[49m\u001b[43m(\u001b[49m\u001b[43mdata\u001b[49m\u001b[43m,\u001b[49m\u001b[43m \u001b[49m\u001b[43mindex\u001b[49m\u001b[43m,\u001b[49m\u001b[43m \u001b[49m\u001b[43mcolumns\u001b[49m\u001b[43m,\u001b[49m\u001b[43m \u001b[49m\u001b[43mdtype\u001b[49m\u001b[43m=\u001b[49m\u001b[43mdtype\u001b[49m\u001b[43m,\u001b[49m\u001b[43m \u001b[49m\u001b[43mcopy\u001b[49m\u001b[43m=\u001b[49m\u001b[43mcopy\u001b[49m\u001b[43m,\u001b[49m\u001b[43m \u001b[49m\u001b[43mtyp\u001b[49m\u001b[43m=\u001b[49m\u001b[43mmanager\u001b[49m\u001b[43m)\u001b[49m\n\u001b[32m    779\u001b[39m \u001b[38;5;28;01melif\u001b[39;00m \u001b[38;5;28misinstance\u001b[39m(data, ma.MaskedArray):\n\u001b[32m    780\u001b[39m     \u001b[38;5;28;01mfrom\u001b[39;00m\u001b[38;5;250m \u001b[39m\u001b[34;01mnumpy\u001b[39;00m\u001b[34;01m.\u001b[39;00m\u001b[34;01mma\u001b[39;00m\u001b[38;5;250m \u001b[39m\u001b[38;5;28;01mimport\u001b[39;00m mrecords\n",
      "\u001b[36mFile \u001b[39m\u001b[32m~/.local/lib/python3.12/site-packages/pandas/core/internals/construction.py:503\u001b[39m, in \u001b[36mdict_to_mgr\u001b[39m\u001b[34m(data, index, columns, dtype, typ, copy)\u001b[39m\n\u001b[32m    499\u001b[39m     \u001b[38;5;28;01melse\u001b[39;00m:\n\u001b[32m    500\u001b[39m         \u001b[38;5;66;03m# dtype check to exclude e.g. range objects, scalars\u001b[39;00m\n\u001b[32m    501\u001b[39m         arrays = [x.copy() \u001b[38;5;28;01mif\u001b[39;00m \u001b[38;5;28mhasattr\u001b[39m(x, \u001b[33m\"\u001b[39m\u001b[33mdtype\u001b[39m\u001b[33m\"\u001b[39m) \u001b[38;5;28;01melse\u001b[39;00m x \u001b[38;5;28;01mfor\u001b[39;00m x \u001b[38;5;129;01min\u001b[39;00m arrays]\n\u001b[32m--> \u001b[39m\u001b[32m503\u001b[39m \u001b[38;5;28;01mreturn\u001b[39;00m \u001b[43marrays_to_mgr\u001b[49m\u001b[43m(\u001b[49m\u001b[43marrays\u001b[49m\u001b[43m,\u001b[49m\u001b[43m \u001b[49m\u001b[43mcolumns\u001b[49m\u001b[43m,\u001b[49m\u001b[43m \u001b[49m\u001b[43mindex\u001b[49m\u001b[43m,\u001b[49m\u001b[43m \u001b[49m\u001b[43mdtype\u001b[49m\u001b[43m=\u001b[49m\u001b[43mdtype\u001b[49m\u001b[43m,\u001b[49m\u001b[43m \u001b[49m\u001b[43mtyp\u001b[49m\u001b[43m=\u001b[49m\u001b[43mtyp\u001b[49m\u001b[43m,\u001b[49m\u001b[43m \u001b[49m\u001b[43mconsolidate\u001b[49m\u001b[43m=\u001b[49m\u001b[43mcopy\u001b[49m\u001b[43m)\u001b[49m\n",
      "\u001b[36mFile \u001b[39m\u001b[32m~/.local/lib/python3.12/site-packages/pandas/core/internals/construction.py:114\u001b[39m, in \u001b[36marrays_to_mgr\u001b[39m\u001b[34m(arrays, columns, index, dtype, verify_integrity, typ, consolidate)\u001b[39m\n\u001b[32m    111\u001b[39m \u001b[38;5;28;01mif\u001b[39;00m verify_integrity:\n\u001b[32m    112\u001b[39m     \u001b[38;5;66;03m# figure out the index, if necessary\u001b[39;00m\n\u001b[32m    113\u001b[39m     \u001b[38;5;28;01mif\u001b[39;00m index \u001b[38;5;129;01mis\u001b[39;00m \u001b[38;5;28;01mNone\u001b[39;00m:\n\u001b[32m--> \u001b[39m\u001b[32m114\u001b[39m         index = \u001b[43m_extract_index\u001b[49m\u001b[43m(\u001b[49m\u001b[43marrays\u001b[49m\u001b[43m)\u001b[49m\n\u001b[32m    115\u001b[39m     \u001b[38;5;28;01melse\u001b[39;00m:\n\u001b[32m    116\u001b[39m         index = ensure_index(index)\n",
      "\u001b[36mFile \u001b[39m\u001b[32m~/.local/lib/python3.12/site-packages/pandas/core/internals/construction.py:680\u001b[39m, in \u001b[36m_extract_index\u001b[39m\u001b[34m(data)\u001b[39m\n\u001b[32m    677\u001b[39m     \u001b[38;5;28;01mraise\u001b[39;00m \u001b[38;5;167;01mValueError\u001b[39;00m(\u001b[33m\"\u001b[39m\u001b[33mAll arrays must be of the same length\u001b[39m\u001b[33m\"\u001b[39m)\n\u001b[32m    679\u001b[39m \u001b[38;5;28;01mif\u001b[39;00m have_dicts:\n\u001b[32m--> \u001b[39m\u001b[32m680\u001b[39m     \u001b[38;5;28;01mraise\u001b[39;00m \u001b[38;5;167;01mValueError\u001b[39;00m(\n\u001b[32m    681\u001b[39m         \u001b[33m\"\u001b[39m\u001b[33mMixing dicts with non-Series may lead to ambiguous ordering.\u001b[39m\u001b[33m\"\u001b[39m\n\u001b[32m    682\u001b[39m     )\n\u001b[32m    684\u001b[39m \u001b[38;5;28;01mif\u001b[39;00m have_series:\n\u001b[32m    685\u001b[39m     \u001b[38;5;28;01mif\u001b[39;00m lengths[\u001b[32m0\u001b[39m] != \u001b[38;5;28mlen\u001b[39m(index):\n",
      "\u001b[31mValueError\u001b[39m: Mixing dicts with non-Series may lead to ambiguous ordering."
     ]
    }
   ],
   "source": [
    "import pandas as pd\n",
    "\n",
    "df = pd.DataFrame(data=flat_f1)"
   ]
  },
  {
   "cell_type": "code",
   "execution_count": null,
   "metadata": {},
   "outputs": [],
   "source": [
    "df.T"
   ]
  },
  {
   "cell_type": "code",
   "execution_count": null,
   "metadata": {},
   "outputs": [],
   "source": [
    "print(df.T.to_latex())"
   ]
  }
 ],
 "metadata": {
  "kernelspec": {
   "display_name": "ML",
   "language": "python",
   "name": "python3"
  },
  "language_info": {
   "codemirror_mode": {
    "name": "ipython",
    "version": 3
   },
   "file_extension": ".py",
   "mimetype": "text/x-python",
   "name": "python",
   "nbconvert_exporter": "python",
   "pygments_lexer": "ipython3",
   "version": "3.12.9"
  }
 },
 "nbformat": 4,
 "nbformat_minor": 2
}
